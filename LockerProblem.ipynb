{
 "cells": [
  {
   "cell_type": "markdown",
   "metadata": {},
   "source": [
    "# The Locker Problem"
   ]
  },
  {
   "cell_type": "markdown",
   "metadata": {},
   "source": [
    "![Problem Statement](lockerproblem.jpg)"
   ]
  },
  {
   "cell_type": "markdown",
   "metadata": {},
   "source": [
    "There are lots of ways to explore this problem, and we encourage you to spend some time thinking about it on your own. Below, we are going to give you some tools to explore this problem with programming. "
   ]
  },
  {
   "cell_type": "markdown",
   "metadata": {},
   "source": [
    "We've created a Locker object that will let you simulate this problem. Each locker has 4 properties: \n",
    "- id: the locker number\n",
    "- isOpen: a boolean indicating whether the locker is open\n",
    "- flipCount: an integer for keeping track of the numebr of times the locker was openened\n",
    "- students: a list of all of the students who open or closed the locker"
   ]
  },
  {
   "cell_type": "code",
   "execution_count": 1,
   "metadata": {},
   "outputs": [],
   "source": [
    "from Locker import Locker"
   ]
  },
  {
   "cell_type": "markdown",
   "metadata": {},
   "source": [
    "Let's create a locker. When we create a locker, it will be initialized with the id you assign to it, a flipCount of 0, and closed. "
   ]
  },
  {
   "cell_type": "code",
   "execution_count": 2,
   "metadata": {
    "scrolled": true
   },
   "outputs": [],
   "source": [
    "locker1 = Locker(1)"
   ]
  },
  {
   "cell_type": "markdown",
   "metadata": {},
   "source": [
    "We can \"flip\" the state of the locker with the flip() function. This function requires you also pass it a number indicating the number of the student who \"flipped\" the locker. In this case, we will assume student 5 flips the locker. "
   ]
  },
  {
   "cell_type": "code",
   "execution_count": 3,
   "metadata": {},
   "outputs": [],
   "source": [
    "locker1.flip(5)"
   ]
  },
  {
   "cell_type": "markdown",
   "metadata": {},
   "source": [
    "We can see the status of the locker by printing it. "
   ]
  },
  {
   "cell_type": "code",
   "execution_count": 4,
   "metadata": {},
   "outputs": [
    {
     "name": "stdout",
     "output_type": "stream",
     "text": [
      "1   \u001b[32mopen    \u001b[0m1   [5]\n"
     ]
    }
   ],
   "source": [
    "print(locker1)"
   ]
  },
  {
   "cell_type": "markdown",
   "metadata": {},
   "source": [
    "Printing outputs the number of the locker, followed by its open status, followed by the number of times it has been opened and the list of students who opened it. "
   ]
  },
  {
   "cell_type": "markdown",
   "metadata": {},
   "source": [
    "We can reset the state of this locker using the reset function."
   ]
  },
  {
   "cell_type": "code",
   "execution_count": 5,
   "metadata": {},
   "outputs": [
    {
     "name": "stdout",
     "output_type": "stream",
     "text": [
      "1   closed  0   []\n"
     ]
    }
   ],
   "source": [
    "locker1.reset()\n",
    "print(locker1)"
   ]
  },
  {
   "cell_type": "markdown",
   "metadata": {},
   "source": [
    "To create an entire set of lockers, we can create a \"Hallway\", which will automatically create a list of closed lockers with appropriate locker id numbers that \"belong\" to the hallway.  This command would create 10 lockers, for example."
   ]
  },
  {
   "cell_type": "code",
   "execution_count": 6,
   "metadata": {},
   "outputs": [],
   "source": [
    "from Locker import Hallway\n",
    "hallway = Hallway(10)"
   ]
  },
  {
   "cell_type": "markdown",
   "metadata": {},
   "source": [
    "We can use a loop to print the status of our collection of locekrs:"
   ]
  },
  {
   "cell_type": "code",
   "execution_count": 7,
   "metadata": {},
   "outputs": [
    {
     "name": "stdout",
     "output_type": "stream",
     "text": [
      "1   closed  0   []\n",
      "2   closed  0   []\n",
      "3   closed  0   []\n",
      "4   closed  0   []\n",
      "5   closed  0   []\n",
      "6   closed  0   []\n",
      "7   closed  0   []\n",
      "8   closed  0   []\n",
      "9   closed  0   []\n",
      "10  closed  0   []\n"
     ]
    }
   ],
   "source": [
    "for l in hallway.lockers:\n",
    "    print(l)"
   ]
  },
  {
   "cell_type": "markdown",
   "metadata": {},
   "source": [
    "Now you have a set of lockers that you can begin to experiment with. Using your knowledge of iteration (for loops) and conditionals (if statements), let's see how you can model this problem. \n",
    "\n",
    "Let's start by just trying to open every locker, using our first student. You'll need a loop to loop over every locker. When we are done, we can go ahead and print the status of the lockers, too. "
   ]
  },
  {
   "cell_type": "code",
   "execution_count": 8,
   "metadata": {},
   "outputs": [],
   "source": [
    "for l in hallway.lockers:\n",
    "    l.flip(1) #student 1 flips every locker"
   ]
  },
  {
   "cell_type": "code",
   "execution_count": 9,
   "metadata": {},
   "outputs": [
    {
     "name": "stdout",
     "output_type": "stream",
     "text": [
      "1   \u001b[32mopen    \u001b[0m1   [1]\n",
      "2   \u001b[32mopen    \u001b[0m1   [1]\n",
      "3   \u001b[32mopen    \u001b[0m1   [1]\n",
      "4   \u001b[32mopen    \u001b[0m1   [1]\n",
      "5   \u001b[32mopen    \u001b[0m1   [1]\n",
      "6   \u001b[32mopen    \u001b[0m1   [1]\n",
      "7   \u001b[32mopen    \u001b[0m1   [1]\n",
      "8   \u001b[32mopen    \u001b[0m1   [1]\n",
      "9   \u001b[32mopen    \u001b[0m1   [1]\n",
      "10  \u001b[32mopen    \u001b[0m1   [1]\n"
     ]
    }
   ],
   "source": [
    "for l in hallway.lockers:\n",
    "    print(l)"
   ]
  },
  {
   "cell_type": "markdown",
   "metadata": {},
   "source": [
    "Later students should not flip every single locker, they should only flip lockers that have numbers that are multiples of that student's number. This will require you to use a conditional statement. One easy way to test if a number is a multiple of another number is to use the mod operator, %, which gives you the remainder when the first argument is divided by the second argument. See this example."
   ]
  },
  {
   "cell_type": "code",
   "execution_count": 10,
   "metadata": {
    "scrolled": true
   },
   "outputs": [
    {
     "name": "stdout",
     "output_type": "stream",
     "text": [
      "0\n",
      "1\n",
      "17\n"
     ]
    }
   ],
   "source": [
    "print (9 % 3) #9 is a multiple of 3\n",
    "print (9 % 2) #9 is not a multiple of 2\n",
    "print (137 % 40) #140 is not a multiple of 40"
   ]
  },
  {
   "cell_type": "markdown",
   "metadata": {},
   "source": [
    "How can you use this argument to build a test for a conditional (if statement) that will be true when the first argument is a multiple of the second? Here's a small example get you started—here's a way to have the computer test if 2+4 is equal to 5. "
   ]
  },
  {
   "cell_type": "code",
   "execution_count": 11,
   "metadata": {},
   "outputs": [
    {
     "name": "stdout",
     "output_type": "stream",
     "text": [
      "False\n"
     ]
    }
   ],
   "source": [
    "print (2 + 4 == 5)"
   ]
  },
  {
   "cell_type": "markdown",
   "metadata": {},
   "source": [
    "### Build the algorithm###\n",
    "\n",
    "Use the ideas above to build an algorithm that will simulate the first 10 students flipping the first 10 lockers as described in the problem above. First we'll reset the hallway to have all the lockers closed and their histories erased "
   ]
  },
  {
   "cell_type": "code",
   "execution_count": 12,
   "metadata": {},
   "outputs": [],
   "source": [
    "hallway.reset()"
   ]
  },
  {
   "cell_type": "code",
   "execution_count": 13,
   "metadata": {},
   "outputs": [
    {
     "name": "stdout",
     "output_type": "stream",
     "text": [
      "1   \u001b[32mopen    \u001b[0m1   [1]\n",
      "2   closed  2   [1, 2]\n",
      "3   closed  2   [1, 3]\n",
      "4   \u001b[32mopen    \u001b[0m3   [1, 2, 4]\n",
      "5   closed  2   [1, 5]\n",
      "6   closed  4   [1, 2, 3, 6]\n",
      "7   closed  2   [1, 7]\n",
      "8   closed  4   [1, 2, 4, 8]\n",
      "9   \u001b[32mopen    \u001b[0m3   [1, 3, 9]\n",
      "10  closed  4   [1, 2, 5, 10]\n"
     ]
    }
   ],
   "source": [
    "for s in range(1,11):\n",
    "    for l_num, l in enumerate(hallway.lockers):\n",
    "        if (l_num+1) % s == 0:\n",
    "            l.flip(s)\n",
    "\n",
    "for l in hallway.lockers:\n",
    "    print(l)"
   ]
  },
  {
   "cell_type": "markdown",
   "metadata": {},
   "source": [
    "Here's an example of what successful output might look like: "
   ]
  },
  {
   "cell_type": "code",
   "execution_count": null,
   "metadata": {},
   "outputs": [],
   "source": [
    "1:  open:   1  [1]\n",
    "2:  closed: 2  [1, 2]\n",
    "3:  closed: 2  [1, 3]\n",
    "4:  open:   3  [1, 2, 4]\n",
    "5:  closed: 2  [1, 5]\n",
    "6:  closed: 4  [1, 2, 3, 6]\n",
    "7:  closed: 2  [1, 7]\n",
    "8:  closed: 4  [1, 2, 4, 8]\n",
    "9:  open:   3  [1, 3, 9]\n",
    "10: closed: 4  [1, 2, 5, 10]"
   ]
  },
  {
   "cell_type": "markdown",
   "metadata": {},
   "source": [
    "## Your turn to explore"
   ]
  },
  {
   "cell_type": "raw",
   "metadata": {},
   "source": [
    "Take some time to explore this problem further on your own. You might start by trying to modify your code to create a set of 200 lockers, and then simulate 200 students flipping them according to the problem. What patterns do you see? Can you predict the status of locker 123, without running all of this code? \n",
    "\n",
    "If you're interested in seeing a visual representation of this, you might check out this [Wolfram Alpha project](https://demonstrations.wolfram.com/TheLockerProblem/).\n",
    "\n",
    "Could you write a function that would give the status of a given locker without needing to actually simulate all of the students opening and closing the lockers? \n",
    "\n",
    "Can you create a function that will report the number of students who changed the state of a locker? \n",
    "\n",
    "What happens if you change the conditions of this problem? What happens if one student, e.g. student 12, doesn't change the state of any lockers? \n",
    "\n",
    "What variations can you think of? "
   ]
  },
  {
   "cell_type": "code",
   "execution_count": 14,
   "metadata": {},
   "outputs": [],
   "source": [
    "h200 = Hallway(200)"
   ]
  },
  {
   "cell_type": "code",
   "execution_count": 15,
   "metadata": {},
   "outputs": [
    {
     "name": "stdout",
     "output_type": "stream",
     "text": [
      "1   \u001b[32mopen    \u001b[0m1   [1]\n",
      "2   closed  2   [1, 2]\n",
      "3   closed  2   [1, 3]\n",
      "4   \u001b[32mopen    \u001b[0m3   [1, 2, 4]\n",
      "5   closed  2   [1, 5]\n",
      "6   closed  4   [1, 2, 3, 6]\n",
      "7   closed  2   [1, 7]\n",
      "8   closed  4   [1, 2, 4, 8]\n",
      "9   \u001b[32mopen    \u001b[0m3   [1, 3, 9]\n",
      "10  closed  4   [1, 2, 5, 10]\n",
      "11  closed  2   [1, 11]\n",
      "12  closed  6   [1, 2, 3, 4, 6, 12]\n",
      "13  closed  2   [1, 13]\n",
      "14  closed  4   [1, 2, 7, 14]\n",
      "15  closed  4   [1, 3, 5, 15]\n",
      "16  \u001b[32mopen    \u001b[0m5   [1, 2, 4, 8, 16]\n",
      "17  closed  2   [1, 17]\n",
      "18  closed  6   [1, 2, 3, 6, 9, 18]\n",
      "19  closed  2   [1, 19]\n",
      "20  closed  6   [1, 2, 4, 5, 10, 20]\n",
      "21  closed  4   [1, 3, 7, 21]\n",
      "22  closed  4   [1, 2, 11, 22]\n",
      "23  closed  2   [1, 23]\n",
      "24  closed  8   [1, 2, 3, 4, 6, 8, 12, 24]\n",
      "25  \u001b[32mopen    \u001b[0m3   [1, 5, 25]\n",
      "26  closed  4   [1, 2, 13, 26]\n",
      "27  closed  4   [1, 3, 9, 27]\n",
      "28  closed  6   [1, 2, 4, 7, 14, 28]\n",
      "29  closed  2   [1, 29]\n",
      "30  closed  8   [1, 2, 3, 5, 6, 10, 15, 30]\n",
      "31  closed  2   [1, 31]\n",
      "32  closed  6   [1, 2, 4, 8, 16, 32]\n",
      "33  closed  4   [1, 3, 11, 33]\n",
      "34  closed  4   [1, 2, 17, 34]\n",
      "35  closed  4   [1, 5, 7, 35]\n",
      "36  \u001b[32mopen    \u001b[0m9   [1, 2, 3, 4, 6, 9, 12, 18, 36]\n",
      "37  closed  2   [1, 37]\n",
      "38  closed  4   [1, 2, 19, 38]\n",
      "39  closed  4   [1, 3, 13, 39]\n",
      "40  closed  8   [1, 2, 4, 5, 8, 10, 20, 40]\n",
      "41  closed  2   [1, 41]\n",
      "42  closed  8   [1, 2, 3, 6, 7, 14, 21, 42]\n",
      "43  closed  2   [1, 43]\n",
      "44  closed  6   [1, 2, 4, 11, 22, 44]\n",
      "45  closed  6   [1, 3, 5, 9, 15, 45]\n",
      "46  closed  4   [1, 2, 23, 46]\n",
      "47  closed  2   [1, 47]\n",
      "48  closed  10  [1, 2, 3, 4, 6, 8, 12, 16, 24, 48]\n",
      "49  \u001b[32mopen    \u001b[0m3   [1, 7, 49]\n",
      "50  closed  6   [1, 2, 5, 10, 25, 50]\n",
      "51  closed  4   [1, 3, 17, 51]\n",
      "52  closed  6   [1, 2, 4, 13, 26, 52]\n",
      "53  closed  2   [1, 53]\n",
      "54  closed  8   [1, 2, 3, 6, 9, 18, 27, 54]\n",
      "55  closed  4   [1, 5, 11, 55]\n",
      "56  closed  8   [1, 2, 4, 7, 8, 14, 28, 56]\n",
      "57  closed  4   [1, 3, 19, 57]\n",
      "58  closed  4   [1, 2, 29, 58]\n",
      "59  closed  2   [1, 59]\n",
      "60  closed  12  [1, 2, 3, 4, 5, 6, 10, 12, 15, 20, 30, 60]\n",
      "61  closed  2   [1, 61]\n",
      "62  closed  4   [1, 2, 31, 62]\n",
      "63  closed  6   [1, 3, 7, 9, 21, 63]\n",
      "64  \u001b[32mopen    \u001b[0m7   [1, 2, 4, 8, 16, 32, 64]\n",
      "65  closed  4   [1, 5, 13, 65]\n",
      "66  closed  8   [1, 2, 3, 6, 11, 22, 33, 66]\n",
      "67  closed  2   [1, 67]\n",
      "68  closed  6   [1, 2, 4, 17, 34, 68]\n",
      "69  closed  4   [1, 3, 23, 69]\n",
      "70  closed  8   [1, 2, 5, 7, 10, 14, 35, 70]\n",
      "71  closed  2   [1, 71]\n",
      "72  closed  12  [1, 2, 3, 4, 6, 8, 9, 12, 18, 24, 36, 72]\n",
      "73  closed  2   [1, 73]\n",
      "74  closed  4   [1, 2, 37, 74]\n",
      "75  closed  6   [1, 3, 5, 15, 25, 75]\n",
      "76  closed  6   [1, 2, 4, 19, 38, 76]\n",
      "77  closed  4   [1, 7, 11, 77]\n",
      "78  closed  8   [1, 2, 3, 6, 13, 26, 39, 78]\n",
      "79  closed  2   [1, 79]\n",
      "80  closed  10  [1, 2, 4, 5, 8, 10, 16, 20, 40, 80]\n",
      "81  \u001b[32mopen    \u001b[0m5   [1, 3, 9, 27, 81]\n",
      "82  closed  4   [1, 2, 41, 82]\n",
      "83  closed  2   [1, 83]\n",
      "84  closed  12  [1, 2, 3, 4, 6, 7, 12, 14, 21, 28, 42, 84]\n",
      "85  closed  4   [1, 5, 17, 85]\n",
      "86  closed  4   [1, 2, 43, 86]\n",
      "87  closed  4   [1, 3, 29, 87]\n",
      "88  closed  8   [1, 2, 4, 8, 11, 22, 44, 88]\n",
      "89  closed  2   [1, 89]\n",
      "90  closed  12  [1, 2, 3, 5, 6, 9, 10, 15, 18, 30, 45, 90]\n",
      "91  closed  4   [1, 7, 13, 91]\n",
      "92  closed  6   [1, 2, 4, 23, 46, 92]\n",
      "93  closed  4   [1, 3, 31, 93]\n",
      "94  closed  4   [1, 2, 47, 94]\n",
      "95  closed  4   [1, 5, 19, 95]\n",
      "96  closed  12  [1, 2, 3, 4, 6, 8, 12, 16, 24, 32, 48, 96]\n",
      "97  closed  2   [1, 97]\n",
      "98  closed  6   [1, 2, 7, 14, 49, 98]\n",
      "99  closed  6   [1, 3, 9, 11, 33, 99]\n",
      "100 \u001b[32mopen    \u001b[0m9   [1, 2, 4, 5, 10, 20, 25, 50, 100]\n",
      "101 closed  2   [1, 101]\n",
      "102 closed  8   [1, 2, 3, 6, 17, 34, 51, 102]\n",
      "103 closed  2   [1, 103]\n",
      "104 closed  8   [1, 2, 4, 8, 13, 26, 52, 104]\n",
      "105 closed  8   [1, 3, 5, 7, 15, 21, 35, 105]\n",
      "106 closed  4   [1, 2, 53, 106]\n",
      "107 closed  2   [1, 107]\n",
      "108 closed  12  [1, 2, 3, 4, 6, 9, 12, 18, 27, 36, 54, 108]\n",
      "109 closed  2   [1, 109]\n",
      "110 closed  8   [1, 2, 5, 10, 11, 22, 55, 110]\n",
      "111 closed  4   [1, 3, 37, 111]\n",
      "112 closed  10  [1, 2, 4, 7, 8, 14, 16, 28, 56, 112]\n",
      "113 closed  2   [1, 113]\n",
      "114 closed  8   [1, 2, 3, 6, 19, 38, 57, 114]\n",
      "115 closed  4   [1, 5, 23, 115]\n",
      "116 closed  6   [1, 2, 4, 29, 58, 116]\n",
      "117 closed  6   [1, 3, 9, 13, 39, 117]\n",
      "118 closed  4   [1, 2, 59, 118]\n",
      "119 closed  4   [1, 7, 17, 119]\n",
      "120 closed  16  [1, 2, 3, 4, 5, 6, 8, 10, 12, 15, 20, 24, 30, 40, 60, 120]\n",
      "121 \u001b[32mopen    \u001b[0m3   [1, 11, 121]\n",
      "122 closed  4   [1, 2, 61, 122]\n",
      "123 closed  4   [1, 3, 41, 123]\n",
      "124 closed  6   [1, 2, 4, 31, 62, 124]\n",
      "125 closed  4   [1, 5, 25, 125]\n",
      "126 closed  12  [1, 2, 3, 6, 7, 9, 14, 18, 21, 42, 63, 126]\n",
      "127 closed  2   [1, 127]\n",
      "128 closed  8   [1, 2, 4, 8, 16, 32, 64, 128]\n",
      "129 closed  4   [1, 3, 43, 129]\n",
      "130 closed  8   [1, 2, 5, 10, 13, 26, 65, 130]\n",
      "131 closed  2   [1, 131]\n",
      "132 closed  12  [1, 2, 3, 4, 6, 11, 12, 22, 33, 44, 66, 132]\n",
      "133 closed  4   [1, 7, 19, 133]\n",
      "134 closed  4   [1, 2, 67, 134]\n",
      "135 closed  8   [1, 3, 5, 9, 15, 27, 45, 135]\n",
      "136 closed  8   [1, 2, 4, 8, 17, 34, 68, 136]\n",
      "137 closed  2   [1, 137]\n",
      "138 closed  8   [1, 2, 3, 6, 23, 46, 69, 138]\n",
      "139 closed  2   [1, 139]\n",
      "140 closed  12  [1, 2, 4, 5, 7, 10, 14, 20, 28, 35, 70, 140]\n",
      "141 closed  4   [1, 3, 47, 141]\n",
      "142 closed  4   [1, 2, 71, 142]\n",
      "143 closed  4   [1, 11, 13, 143]\n",
      "144 \u001b[32mopen    \u001b[0m15  [1, 2, 3, 4, 6, 8, 9, 12, 16, 18, 24, 36, 48, 72, 144]\n",
      "145 closed  4   [1, 5, 29, 145]\n",
      "146 closed  4   [1, 2, 73, 146]\n",
      "147 closed  6   [1, 3, 7, 21, 49, 147]\n",
      "148 closed  6   [1, 2, 4, 37, 74, 148]\n",
      "149 closed  2   [1, 149]\n",
      "150 closed  12  [1, 2, 3, 5, 6, 10, 15, 25, 30, 50, 75, 150]\n",
      "151 closed  2   [1, 151]\n",
      "152 closed  8   [1, 2, 4, 8, 19, 38, 76, 152]\n",
      "153 closed  6   [1, 3, 9, 17, 51, 153]\n",
      "154 closed  8   [1, 2, 7, 11, 14, 22, 77, 154]\n",
      "155 closed  4   [1, 5, 31, 155]\n",
      "156 closed  12  [1, 2, 3, 4, 6, 12, 13, 26, 39, 52, 78, 156]\n",
      "157 closed  2   [1, 157]\n",
      "158 closed  4   [1, 2, 79, 158]\n",
      "159 closed  4   [1, 3, 53, 159]\n",
      "160 closed  12  [1, 2, 4, 5, 8, 10, 16, 20, 32, 40, 80, 160]\n",
      "161 closed  4   [1, 7, 23, 161]\n",
      "162 closed  10  [1, 2, 3, 6, 9, 18, 27, 54, 81, 162]\n",
      "163 closed  2   [1, 163]\n",
      "164 closed  6   [1, 2, 4, 41, 82, 164]\n",
      "165 closed  8   [1, 3, 5, 11, 15, 33, 55, 165]\n",
      "166 closed  4   [1, 2, 83, 166]\n",
      "167 closed  2   [1, 167]\n",
      "168 closed  16  [1, 2, 3, 4, 6, 7, 8, 12, 14, 21, 24, 28, 42, 56, 84, 168]\n",
      "169 \u001b[32mopen    \u001b[0m3   [1, 13, 169]\n",
      "170 closed  8   [1, 2, 5, 10, 17, 34, 85, 170]\n",
      "171 closed  6   [1, 3, 9, 19, 57, 171]\n",
      "172 closed  6   [1, 2, 4, 43, 86, 172]\n",
      "173 closed  2   [1, 173]\n",
      "174 closed  8   [1, 2, 3, 6, 29, 58, 87, 174]\n",
      "175 closed  6   [1, 5, 7, 25, 35, 175]\n",
      "176 closed  10  [1, 2, 4, 8, 11, 16, 22, 44, 88, 176]\n",
      "177 closed  4   [1, 3, 59, 177]\n",
      "178 closed  4   [1, 2, 89, 178]\n",
      "179 closed  2   [1, 179]\n",
      "180 closed  18  [1, 2, 3, 4, 5, 6, 9, 10, 12, 15, 18, 20, 30, 36, 45, 60, 90, 180]\n",
      "181 closed  2   [1, 181]\n",
      "182 closed  8   [1, 2, 7, 13, 14, 26, 91, 182]\n",
      "183 closed  4   [1, 3, 61, 183]\n",
      "184 closed  8   [1, 2, 4, 8, 23, 46, 92, 184]\n",
      "185 closed  4   [1, 5, 37, 185]\n",
      "186 closed  8   [1, 2, 3, 6, 31, 62, 93, 186]\n",
      "187 closed  4   [1, 11, 17, 187]\n",
      "188 closed  6   [1, 2, 4, 47, 94, 188]\n",
      "189 closed  8   [1, 3, 7, 9, 21, 27, 63, 189]\n",
      "190 closed  8   [1, 2, 5, 10, 19, 38, 95, 190]\n",
      "191 closed  2   [1, 191]\n",
      "192 closed  14  [1, 2, 3, 4, 6, 8, 12, 16, 24, 32, 48, 64, 96, 192]\n",
      "193 closed  2   [1, 193]\n",
      "194 closed  4   [1, 2, 97, 194]\n",
      "195 closed  8   [1, 3, 5, 13, 15, 39, 65, 195]\n",
      "196 \u001b[32mopen    \u001b[0m9   [1, 2, 4, 7, 14, 28, 49, 98, 196]\n",
      "197 closed  2   [1, 197]\n",
      "198 closed  12  [1, 2, 3, 6, 9, 11, 18, 22, 33, 66, 99, 198]\n",
      "199 closed  2   [1, 199]\n",
      "200 closed  12  [1, 2, 4, 5, 8, 10, 20, 25, 40, 50, 100, 200]\n"
     ]
    }
   ],
   "source": [
    "for s in range(1,201):\n",
    "    for l_num, l in enumerate(h200.lockers):\n",
    "        if (l_num+1) % s == 0:\n",
    "            l.flip(s)\n",
    "\n",
    "for l in h200.lockers:\n",
    "    print(l)"
   ]
  }
 ],
 "metadata": {
  "kernelspec": {
   "display_name": "Python 3",
   "language": "python",
   "name": "python3"
  },
  "language_info": {
   "codemirror_mode": {
    "name": "ipython",
    "version": 3
   },
   "file_extension": ".py",
   "mimetype": "text/x-python",
   "name": "python",
   "nbconvert_exporter": "python",
   "pygments_lexer": "ipython3",
   "version": "3.6.5"
  }
 },
 "nbformat": 4,
 "nbformat_minor": 2
}
